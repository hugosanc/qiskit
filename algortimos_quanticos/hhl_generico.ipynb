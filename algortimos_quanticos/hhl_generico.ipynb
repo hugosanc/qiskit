{
 "cells": [
  {
   "cell_type": "code",
   "execution_count": 13,
   "metadata": {},
   "outputs": [],
   "source": [
    "# importando funções a serem utilizadas\n",
    "# obs: agora utiliza-se aqua\n",
    "from qiskit import Aer\n",
    "from qiskit.circuit.library import QFT\n",
    "from qiskit.aqua import QuantumInstance, aqua_globals\n",
    "from qiskit.quantum_info import state_fidelity\n",
    "# HHL e sistemas lineares\n",
    "from qiskit.aqua.algorithms import HHL, NumPyLSsolver\n",
    "from qiskit.aqua.components.eigs import EigsQPE\n",
    "from qiskit.aqua.components.reciprocals import LookupRotation\n",
    "from qiskit.aqua.operators import MatrixOperator\n",
    "from qiskit.aqua.components.initial_states import Custom\n",
    "import numpy as np"
   ]
  },
  {
   "cell_type": "code",
   "execution_count": 14,
   "metadata": {},
   "outputs": [],
   "source": [
    "# função dos autovalores\n",
    "def create_eigs(matrix, num_ancillae, num_time_slices, negative_evals):\n",
    "    ne_qfts = [None, None]\n",
    "    if negative_evals:\n",
    "        num_ancillae += 1\n",
    "        ne_qfts = [QFT(num_ancillae - 1), QFT(num_ancillae - 1).inverse()]\n",
    "\n",
    "    return EigsQPE(MatrixOperator(matrix=matrix),\n",
    "                   QFT(num_ancillae).inverse(),\n",
    "                   num_time_slices=num_time_slices,\n",
    "                   num_ancillae=num_ancillae,\n",
    "                   expansion_mode='suzuki',\n",
    "                   expansion_order=2,\n",
    "                   evo_time=None,  # Valor do \"tempo t\". Pode ser setado em qualquer valor, exemplo: np.pi*3/4\n",
    "                   negative_evals=negative_evals,\n",
    "                   ne_qfts=ne_qfts)"
   ]
  },
  {
   "cell_type": "code",
   "execution_count": 15,
   "metadata": {},
   "outputs": [],
   "source": [
    "# função da fidelidade\n",
    "def fidelity(hhl, ref):\n",
    "    solution_hhl_normed = hhl / np.linalg.norm(hhl)\n",
    "    solution_ref_normed = ref / np.linalg.norm(ref)\n",
    "    fidelity = state_fidelity(solution_hhl_normed, solution_ref_normed)\n",
    "    print(\"Fidelidade:\\t\\t %f\" % fidelity)"
   ]
  },
  {
   "cell_type": "code",
   "execution_count": 16,
   "metadata": {},
   "outputs": [],
   "source": [
    "# Dados do problema ( função na forma: Ax + b = 0 )\n",
    "# A = matrix\n",
    "matrix = [[1, -1/2], [-1/2, 1]]\n",
    "# b = vector\n",
    "vector = [1, 0]"
   ]
  },
  {
   "cell_type": "code",
   "execution_count": 17,
   "metadata": {},
   "outputs": [],
   "source": [
    "orig_size = len(vector)\n",
    "matrix, vector, truncate_powerdim, truncate_hermitian = HHL.matrix_resize(matrix, vector)\n",
    "\n",
    "# Inicialização do módulo dos autovalores\n",
    "# create_eigs(matriz, número de ancilas, quantidade de passos, autovalores negativos)\n",
    "eigs = create_eigs(matrix, 3, 50, False)\n",
    "num_q, num_a = eigs.get_register_sizes()\n",
    "\n",
    "# Inicialização do módulo de estado inicial\n",
    "init_state = Custom(num_q, state_vector=vector)\n",
    "\n",
    "# Inicialização do módulo de rotação\n",
    "reci = LookupRotation(negative_evals=eigs._negative_evals, evo_time=eigs._evo_time)\n",
    "\n",
    "# HHL\n",
    "algo = HHL(matrix, vector, truncate_powerdim, truncate_hermitian, eigs,\n",
    "           init_state, reci, num_q, num_a, orig_size)"
   ]
  },
  {
   "cell_type": "code",
   "execution_count": 18,
   "metadata": {},
   "outputs": [
    {
     "name": "stdout",
     "output_type": "stream",
     "text": [
      "Solução:\t\t [1.35867-0.j 0.71891-0.j]\n",
      "Solução Clássica:\t [1.33333 0.66667]\n",
      "Probabilidade:\t\t 0.117814\n",
      "Fidelidade:\t\t 0.999470\n"
     ]
    }
   ],
   "source": [
    "#soluções finais\n",
    "result = algo.run(QuantumInstance(Aer.get_backend('statevector_simulator')))\n",
    "print(\"Solução:\\t\\t\", np.round(result['solution'], 5))\n",
    "\n",
    "result_ref = NumPyLSsolver(matrix, vector).run()\n",
    "print(\"Solução Clássica:\\t\", np.round(result_ref['solution'], 5))\n",
    "\n",
    "print(\"Probabilidade:\\t\\t %f\" % result['probability_result'])\n",
    "fidelity(result['solution'], result_ref['solution'])"
   ]
  },
  {
   "cell_type": "code",
   "execution_count": null,
   "metadata": {},
   "outputs": [],
   "source": []
  }
 ],
 "metadata": {
  "kernelspec": {
   "display_name": "Python 3",
   "language": "python",
   "name": "python3"
  },
  "language_info": {
   "codemirror_mode": {
    "name": "ipython",
    "version": 3
   },
   "file_extension": ".py",
   "mimetype": "text/x-python",
   "name": "python",
   "nbconvert_exporter": "python",
   "pygments_lexer": "ipython3",
   "version": "3.7.6"
  }
 },
 "nbformat": 4,
 "nbformat_minor": 4
}
